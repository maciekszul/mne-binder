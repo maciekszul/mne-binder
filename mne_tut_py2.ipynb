{
 "cells": [
  {
   "cell_type": "code",
   "execution_count": null,
   "metadata": {},
   "outputs": [],
   "source": [
    "import os.path as op\n",
    "import pandas as pd\n",
    "import numpy as np\n",
    "\n",
    "import mne\n",
    "%matplotlib inline\n",
    "%config InlineBackend.figure_format = \"png\"\n",
    "from mne import combine_evoked\n",
    "from mne.minimum_norm import apply_inverse\n",
    "from mne.datasets.brainstorm import bst_auditory\n",
    "from mne.io import read_raw_ctf\n",
    "\n",
    "import matplotlib.pylab as pylab"
   ]
  },
  {
   "cell_type": "markdown",
   "metadata": {},
   "source": [
    "### Experiment:\n",
    "\n",
    "* One subject, 2 acquisition runs 6 minutes each.\n",
    "* Each run contains 200 regular beeps and 40 easy deviant beeps.\n",
    "* Random ISI: between 0.7s and 1.7s seconds, uniformly distributed.\n",
    "* Button pressed when detecting a deviant with the right index finger.\n",
    "\n",
    "### Acquisition:\n",
    "Data channel array consisted of 274 MEG axial gradiometers, 26 MEG reference sensors and 2 EEG electrodes (Cz and Pz). In addition:\n",
    "\n",
    "* 1 stim channel for marking presentation times for the stimuli\n",
    "* 1 audio channel for the sent signal\n",
    "* 1 response channel for recording the button presses\n",
    "* 1 ECG bipolar\n",
    "* 2 EOG bipolar (vertical and horizontal)\n",
    "* 12 head tracking channels\n",
    "* 20 unused channels"
   ]
  },
  {
   "cell_type": "code",
   "execution_count": null,
   "metadata": {},
   "outputs": [],
   "source": [
    "# settings for the tutorial\n",
    "use_precomputed = True\n",
    "\n",
    "preload = not use_precomputed\n",
    "\n",
    "scalings = dict(mag=1e-12, grad=4e-11, eeg=20e-5, eog=150e-6, ecg=5e-4,\n",
    "                emg=1e-3, ref_meg=1e-12, misc=1e-3, stim=1,\n",
    "                resp=1, chpi=1e-4, whitened=1e2)\n",
    "# file paths\n",
    "data_path = bst_auditory.data_path()\n",
    "subject = 'bst_auditory'\n",
    "subjects_dir = op.join(data_path, 'subjects')\n",
    "\n",
    "raw_fname1 = op.join(data_path, 'MEG', 'bst_auditory',\n",
    "                     'S01_AEF_20131218_01.ds')\n",
    "\n",
    "raw_fname2 = op.join(data_path, 'MEG', 'bst_auditory',\n",
    "                     'S01_AEF_20131218_02.ds')\n",
    "\n",
    "erm_fname = op.join(data_path, 'MEG', 'bst_auditory',\n",
    "                    'S01_Noise_20131218_01.ds')"
   ]
  },
  {
   "cell_type": "code",
   "execution_count": null,
   "metadata": {
    "scrolled": true
   },
   "outputs": [],
   "source": [
    "# reading files\n",
    "raw = read_raw_ctf(raw_fname1, preload=preload)\n",
    "n_times_run1 = raw.n_times\n",
    "mne.io.concatenate_raws([raw, read_raw_ctf(raw_fname2, preload=preload)])\n",
    "raw_erm = read_raw_ctf(erm_fname, preload=preload)\n",
    "raw.set_channel_types({'HEOG': 'eog', 'VEOG': 'eog', 'ECG': 'ecg'})\n",
    "\n",
    "frontal = [i for i, s in enumerate(raw.info[\"ch_names\"]) if 'MRF' in s]\n",
    "bad_channels = [i for i, s in enumerate(raw.info[\"ch_names\"]) if \"MLO52-4408\" in s] + [i for i, s in enumerate(raw.info[\"ch_names\"]) if \"MRT51-4408\" in s] + [i for i, s in enumerate(raw.info[\"ch_names\"]) if \"MLO42-4408\" in s] +[i for i, s in enumerate(raw.info[\"ch_names\"]) if \"MLO43-4408\" in s]"
   ]
  },
  {
   "cell_type": "markdown",
   "metadata": {},
   "source": [
    "#### Ocular and cardiac signals can significantly affect the data"
   ]
  },
  {
   "cell_type": "code",
   "execution_count": null,
   "metadata": {},
   "outputs": [],
   "source": [
    "pylab.rcParams['figure.figsize'] = (14.0, 8.0)\n",
    "raw.plot(proj=False, order=[0, 306, 307, 308], n_channels=6, start=350, duration=10, scalings=scalings);"
   ]
  },
  {
   "cell_type": "markdown",
   "metadata": {},
   "source": [
    "#### Artifacts' effect on data"
   ]
  },
  {
   "cell_type": "code",
   "execution_count": null,
   "metadata": {},
   "outputs": [],
   "source": [
    "raw.plot(proj=False, order=[306, 307, 308] + frontal, n_channels=10, start=350, duration=10, scalings=scalings);"
   ]
  },
  {
   "cell_type": "code",
   "execution_count": null,
   "metadata": {
    "scrolled": true
   },
   "outputs": [],
   "source": [
    "# dataset specific preparation for artifact rejection\n",
    "\n",
    "annotations_df = pd.DataFrame()\n",
    "offset = n_times_run1\n",
    "for idx in [1, 2]:\n",
    "    csv_fname = op.join(data_path, 'MEG', 'bst_auditory',\n",
    "                        'events_bad_0%s.csv' % idx)\n",
    "    df = pd.read_csv(csv_fname, header=None,\n",
    "                     names=['onset', 'duration', 'id', 'label'])\n",
    "    print('Events from run {0}:'.format(idx))\n",
    "    print(df)\n",
    "\n",
    "    df['onset'] += offset * (idx - 1)\n",
    "    annotations_df = pd.concat([annotations_df, df], axis=0)\n",
    "\n",
    "saccades_events = df[df['label'] == 'saccade'].values[:, :3].astype(int)\n",
    "\n",
    "# Conversion from samples to times:\n",
    "onsets = annotations_df['onset'].values / raw.info['sfreq']\n",
    "durations = annotations_df['duration'].values / raw.info['sfreq']\n",
    "descriptions = annotations_df['label'].values\n",
    "\n",
    "annotations = mne.Annotations(onsets, durations, descriptions)\n",
    "raw.annotations = annotations\n",
    "del onsets, durations, descriptions"
   ]
  },
  {
   "cell_type": "markdown",
   "metadata": {},
   "source": [
    "### Signal-Space Projection (SSP)\n",
    "\n",
    "The Signal-Space Projection (SSP) is one approach to rejection of external disturbances in software. Unlike many other noise-cancellation approaches, SSP does not require additional reference sensors to record the disturbance fields. Instead, SSP relies on the fact that the magnetic field distributions generated by the sources in the brain have spatial distributions sufficiently different from those generated by external noise sources. Furthermore, it is implicitly assumed that the linear space spanned by the significant external noise patters has a low dimension.\n",
    "\n",
    "https://mne-tools.github.io/stable/manual/preprocessing/ssp.html"
   ]
  },
  {
   "cell_type": "code",
   "execution_count": null,
   "metadata": {},
   "outputs": [],
   "source": [
    "# computing the projections\n",
    "\n",
    "saccade_epochs = mne.Epochs(raw, saccades_events, 1, 0., 0.5, preload=True,\n",
    "                            reject_by_annotation=False)\n",
    "\n",
    "projs_saccade = mne.compute_proj_epochs(saccade_epochs, n_mag=1, n_eeg=0,\n",
    "                                        desc_prefix='saccade')\n",
    "\n",
    "# projs_eog, _ = mne.preprocessing.compute_proj_eog(raw.load_data(), n_mag=1, n_eeg=0)\n",
    "\n",
    "# using precomputed solution to save time and resources\n",
    "proj_fname = op.join(data_path, 'MEG', 'bst_auditory', 'bst_auditory-eog-proj.fif')\n",
    "projs_eog = mne.read_proj(proj_fname)[0]\n",
    "\n",
    "raw.add_proj(projs_saccade)\n",
    "raw.add_proj(projs_eog)\n",
    "del saccade_epochs, saccades_events, projs_eog, projs_saccade  # To save memory"
   ]
  },
  {
   "cell_type": "markdown",
   "metadata": {},
   "source": [
    "#### Effect of SSP artifact rejection"
   ]
  },
  {
   "cell_type": "code",
   "execution_count": null,
   "metadata": {},
   "outputs": [],
   "source": [
    "raw.plot(proj=True, order=[307, 308] + frontal, n_channels=10, start=350, scalings=scalings);"
   ]
  },
  {
   "cell_type": "markdown",
   "metadata": {},
   "source": [
    "### Filtering the data\n",
    "\n",
    "![title](https://ars.els-cdn.com/content/image/1-s2.0-S0165027013001325-gr1.jpg)\n",
    "\n",
    "source: https://doi.org/10.1016/j.jneumeth.2013.04.002\n",
    "\n",
    "* removing 60 hz power line artifact using narrowband notch filter\n",
    "~~~python\n",
    "meg_picks = mne.pick_types(raw.info, meg=True, eeg=False)\n",
    "raw.plot_psd(tmax=np.inf, picks=meg_picks)\n",
    "notches = np.arange(60, 181, 60)\n",
    "raw.notch_filter(notches, phase='zero-double', fir_design='firwin2')\n",
    "raw.plot_psd(tmax=np.inf, picks=meg_picks)\n",
    "~~~\n",
    "\n",
    "* removing high frequency signal \n",
    "~~~python\n",
    "raw.filter(None, 100., h_trans_bandwidth=0.5, filter_length='10s',\n",
    "           phase='zero-double', fir_design='firwin2')\n",
    "~~~"
   ]
  },
  {
   "cell_type": "markdown",
   "metadata": {},
   "source": [
    "### Epoching and averaging"
   ]
  },
  {
   "cell_type": "code",
   "execution_count": null,
   "metadata": {},
   "outputs": [],
   "source": [
    "tmin, tmax = -0.1, 0.5\n",
    "event_id = dict(standard=1, deviant=2)\n",
    "reject = dict(mag=4e-12, eog=250e-6)\n",
    "# find events\n",
    "events = mne.find_events(raw, stim_channel='UPPT001')"
   ]
  },
  {
   "cell_type": "code",
   "execution_count": null,
   "metadata": {},
   "outputs": [],
   "source": [
    "# dataset specific event timing\n",
    "sound_data = raw[raw.ch_names.index('UADC001-4408')][0][0]\n",
    "onsets = np.where(np.abs(sound_data) > 2. * np.std(sound_data))[0]\n",
    "min_diff = int(0.5 * raw.info['sfreq'])\n",
    "diffs = np.concatenate([[min_diff + 1], np.diff(onsets)])\n",
    "onsets = onsets[diffs > min_diff]\n",
    "assert len(onsets) == len(events)\n",
    "diffs = 1000. * (events[:, 0] - onsets) / raw.info['sfreq']\n",
    "print('Trigger delay removed (μ ± σ): %0.1f ± %0.1f ms'\n",
    "      % (np.mean(diffs), np.std(diffs)))\n",
    "events[:, 0] = onsets\n",
    "del sound_data, diffs"
   ]
  },
  {
   "cell_type": "markdown",
   "metadata": {},
   "source": [
    "### Dopping noisy channels"
   ]
  },
  {
   "cell_type": "code",
   "execution_count": null,
   "metadata": {},
   "outputs": [],
   "source": [
    "raw.info['bads'] = ['MLO52-4408', 'MRT51-4408', 'MLO42-4408', 'MLO43-4408']"
   ]
  },
  {
   "cell_type": "code",
   "execution_count": null,
   "metadata": {},
   "outputs": [],
   "source": [
    "raw.plot(proj=True, order=bad_channels + frontal[:4], n_channels=8, start=350, scalings=scalings);"
   ]
  },
  {
   "cell_type": "code",
   "execution_count": null,
   "metadata": {},
   "outputs": [],
   "source": [
    "picks = mne.pick_types(raw.info, meg=True, eeg=False, stim=False, eog=True,\n",
    "                       exclude='bads')\n",
    "\n",
    "epochs = mne.Epochs(raw, events, event_id, tmin, tmax, picks=picks,\n",
    "                    baseline=(None, 0), reject=reject, preload=False,\n",
    "                    proj=True)"
   ]
  },
  {
   "cell_type": "code",
   "execution_count": null,
   "metadata": {},
   "outputs": [],
   "source": [
    "epochs.drop_bad()\n",
    "epochs_standard = mne.concatenate_epochs([epochs['standard'][range(40)],\n",
    "                                          epochs['standard'][182:222]])\n",
    "epochs_standard.load_data()  # Resampling to save memory.\n",
    "epochs_standard.resample(600, npad='auto')\n",
    "epochs_deviant = epochs['deviant'].load_data()\n",
    "epochs_deviant.resample(600, npad='auto')\n",
    "del epochs, picks"
   ]
  },
  {
   "cell_type": "markdown",
   "metadata": {},
   "source": [
    "### Computing averages for each condition"
   ]
  },
  {
   "cell_type": "code",
   "execution_count": null,
   "metadata": {},
   "outputs": [],
   "source": [
    "evoked_std = epochs_standard.average()\n",
    "evoked_dev = epochs_deviant.average()\n",
    "del epochs_standard, epochs_deviant"
   ]
  },
  {
   "cell_type": "markdown",
   "metadata": {},
   "source": [
    "#### Unfiltered epochs"
   ]
  },
  {
   "cell_type": "code",
   "execution_count": null,
   "metadata": {},
   "outputs": [],
   "source": [
    "evoked_std.plot(window_title='Standard', gfp=True, time_unit='s');"
   ]
  },
  {
   "cell_type": "code",
   "execution_count": null,
   "metadata": {},
   "outputs": [],
   "source": [
    "# for speed and memory, low pass filtering done on epochs\n",
    "for evoked in (evoked_std, evoked_dev):\n",
    "    evoked.filter(l_freq=None, h_freq=40., fir_design='firwin')"
   ]
  },
  {
   "cell_type": "markdown",
   "metadata": {},
   "source": [
    "#### After filtering"
   ]
  },
  {
   "cell_type": "code",
   "execution_count": null,
   "metadata": {},
   "outputs": [],
   "source": [
    "evoked_std.plot(window_title='Standard', gfp=True, time_unit='s');"
   ]
  },
  {
   "cell_type": "markdown",
   "metadata": {},
   "source": [
    "#### Let's review the results"
   ]
  },
  {
   "cell_type": "code",
   "execution_count": null,
   "metadata": {},
   "outputs": [],
   "source": [
    "print('Standard')\n",
    "evoked_std.plot(window_title='Standard', gfp=True, time_unit='s')\n",
    "\n",
    "print('Deviant')\n",
    "evoked_dev.plot(window_title='Deviant', gfp=True, time_unit='s');"
   ]
  },
  {
   "cell_type": "code",
   "execution_count": null,
   "metadata": {},
   "outputs": [],
   "source": [
    "times = np.arange(0.05, 0.301, 0.05)\n",
    "\n",
    "evoked_std.plot_topomap(times=times, title='Standard', time_unit='s')\n",
    "\n",
    "evoked_dev.plot_topomap(times=times, title='Deviant', time_unit='s');"
   ]
  },
  {
   "cell_type": "markdown",
   "metadata": {},
   "source": [
    "### Mismatch negativity\n",
    "Difference between standard and deviant stimuli"
   ]
  },
  {
   "cell_type": "code",
   "execution_count": null,
   "metadata": {},
   "outputs": [],
   "source": [
    "evoked_difference = combine_evoked([evoked_dev, -evoked_std], weights='equal')\n",
    "evoked_difference.plot(window_title='Difference', gfp=True, time_unit='s');"
   ]
  },
  {
   "cell_type": "markdown",
   "metadata": {},
   "source": [
    "### Visualising signal sources on a cortical surface\n",
    "\n",
    "### Forward solution\n",
    "\n",
    "~~~python\n",
    "src = mne.setup_source_space(subject, spacing='ico4',\n",
    "                             subjects_dir=subjects_dir, overwrite=True)\n",
    "model = mne.make_bem_model(subject=subject, ico=4, conductivity=[0.3],\n",
    "                           subjects_dir=subjects_dir)\n",
    "bem = mne.make_bem_solution(model)\n",
    "fwd = mne.make_forward_solution(evoked_std.info, trans=trans, src=src,\n",
    "                                bem=bem)\n",
    "~~~\n",
    "\n",
    "\n",
    "reading transformation files\n",
    "~~~python\n",
    "\n",
    "trans_fname = op.join(data_path, 'MEG', 'bst_auditory',\n",
    "                      'bst_auditory-trans.fif')\n",
    "trans = mne.read_trans(trans_fname)\n",
    "~~~\n",
    "\n",
    "\n",
    "reading precomputed files\n",
    "~~~python\n",
    "fwd_fname = op.join(data_path, 'MEG', 'bst_auditory',\n",
    "                    'bst_auditory-meg-oct-6-fwd.fif')\n",
    "fwd = mne.read_forward_solution(fwd_fname)\n",
    "~~~\n",
    "\n",
    "\n",
    "prepare the data\n",
    "~~~python\n",
    "reject = dict(mag=4e-12)\n",
    "cov = mne.compute_raw_covariance(raw_erm, reject=reject)\n",
    "inv = mne.minimum_norm.make_inverse_operator(evoked_std.info, fwd, cov)\n",
    "snr = 3.0\n",
    "lambda2 = 1.0 / snr ** 2\n",
    "del fwd\n",
    "~~~"
   ]
  },
  {
   "cell_type": "markdown",
   "metadata": {},
   "source": [
    "### Dynamic statistical parametric maps (dSPM) source localisation"
   ]
  },
  {
   "cell_type": "markdown",
   "metadata": {},
   "source": [
    "~~~python\n",
    "stc_standard = mne.minimum_norm.apply_inverse(evoked_std, inv, lambda2, 'dSPM')\n",
    "brain = stc_standard.plot(subjects_dir=subjects_dir, subject=subject,\n",
    "                          surface='inflated', time_viewer=False, hemi='lh',\n",
    "                          initial_time=0.1, time_unit='s')\n",
    "del stc_standard, brain\n",
    "~~~"
   ]
  },
  {
   "cell_type": "markdown",
   "metadata": {},
   "source": [
    "#### STANDARD\n",
    "![title](https://mne-tools.github.io/stable/_images/sphx_glr_plot_brainstorm_auditory_009.png)"
   ]
  },
  {
   "cell_type": "markdown",
   "metadata": {},
   "source": [
    "#### DEVIANT\n",
    "![title](https://mne-tools.github.io/stable/_images/sphx_glr_plot_brainstorm_auditory_010.png)"
   ]
  },
  {
   "cell_type": "markdown",
   "metadata": {},
   "source": [
    "#### MISMATCH (difference)\n",
    "![title](https://mne-tools.github.io/stable/_images/sphx_glr_plot_brainstorm_auditory_011.png)"
   ]
  },
  {
   "cell_type": "markdown",
   "metadata": {},
   "source": [
    "source: https://mne-tools.github.io/stable/auto_tutorials/plot_brainstorm_auditory.html"
   ]
  }
 ],
 "metadata": {
  "kernelspec": {
   "display_name": "Python 2",
   "language": "python",
   "name": "python2"
  },
  "language_info": {
   "codemirror_mode": {
    "name": "ipython",
    "version": 2
   },
   "file_extension": ".py",
   "mimetype": "text/x-python",
   "name": "python",
   "nbconvert_exporter": "python",
   "pygments_lexer": "ipython2",
   "version": "2.7.14"
  }
 },
 "nbformat": 4,
 "nbformat_minor": 2
}
